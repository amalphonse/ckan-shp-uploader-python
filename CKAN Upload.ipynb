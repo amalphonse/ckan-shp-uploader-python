{
 "cells": [
  {
   "cell_type": "code",
   "execution_count": 27,
   "metadata": {
    "collapsed": false
   },
   "outputs": [],
   "source": [
    "# Make sure this runs ok before proceeding.\n",
    "# If you get an import error, do `pip install ckanapi`\n",
    "import ckanapi"
   ]
  },
  {
   "cell_type": "code",
   "execution_count": 33,
   "metadata": {
    "collapsed": false
   },
   "outputs": [],
   "source": [
    "API_KEY = r'put your API key here'\n",
    "SERVER = r'http://data2.vta.org'\n",
    "USER_AGENT = r'CKAN SHP Uploader'\n",
    "ckan_inst = ckanapi.RemoteCKAN(\n",
    "            SERVER,\n",
    "            apikey=API_KEY,\n",
    "            user_agent=USER_AGENT\n",
    "        )"
   ]
  },
  {
   "cell_type": "code",
   "execution_count": 34,
   "metadata": {
    "collapsed": false
   },
   "outputs": [
    {
     "name": "stdout",
     "output_type": "stream",
     "text": [
      "['street,city,zip,state,beds,baths,sq__ft,type,sale_date,price,latitude,longitude\\n', '3526 HIGH ST,SACRAMENTO,95838,CA,2,1,836,Residential,Wed May 21 00:00:00 EDT 2008,59222,38.631913,-121.434879\\n', '51 OMAHA CT,SACRAMENTO,95823,CA,3,1,1167,Residential,Wed May 21 00:00:00 EDT 2008,68212,38.478902,-121.431028\\n', '2796 BRANCH ST,SACRAMENTO,95815,CA,2,1,796,Residential,Wed May 21 00:00:00 EDT 2008,68880,38.618305,-121.443839\\n', '2805 JANETTE WAY,SACRAMENTO,95815,CA,2,1,852,Residential,Wed May 21 00:00:00 EDT 2008,69307,38.616835,-121.439146\\n']\n"
     ]
    }
   ],
   "source": [
    "SAMPLE_FILE_1a = 'samples/Sacramentorealestatetransactions_a.csv'\n",
    "SAMPLE_FILE_1b = 'samples/Sacramentorealestatetransactions_b.csv'\n",
    "SAMPLE_FILE_2 = 'samples/SalesJan2009.csv'\n",
    "\n",
    "import os.path\n",
    "def check_preview_file(filename):\n",
    "    # check that the file exists and\n",
    "    # preview what we're going to upload\n",
    "    if os.path.isfile(filename):\n",
    "        with open(filename) as f:\n",
    "            head = [next(f) for x in iter(range(5))]\n",
    "        print(head)\n",
    "    else:\n",
    "        print('file not found')\n",
    "\n",
    "check_preview_file(SAMPLE_FILE_1a)"
   ]
  },
  {
   "cell_type": "code",
   "execution_count": 35,
   "metadata": {
    "collapsed": false
   },
   "outputs": [],
   "source": [
    "def create_dataset(dataset_name, dataset_title, owner_org='vta'):\n",
    "    \"\"\"\n",
    "    Create a dataset with an associated resource\n",
    "    \"\"\"\n",
    "    try:\n",
    "        ckan_inst.action.package_create(\n",
    "                name=dataset_name,\n",
    "                title=dataset_title,\n",
    "                owner_org=owner_org)\n",
    "    except ckanapi.ValidationError as ex:\n",
    "        print(ex)\n",
    "    except ckanapi.NotAuthorized as ex:\n",
    "        print('access denied. Is your API key valid?')\n",
    "        print(ex)\n",
    "        return\n",
    "    print('done')\n",
    "\n",
    "def add_resource_to_dataset(package_id, filepath, name=None, url='dummy-value', data_format='csv'):\n",
    "    \"\"\"\n",
    "    Upload a new resource and associate it with a dataset\n",
    "    \"\"\"\n",
    "    if name is None:\n",
    "        name = os.path.basename(filepath)\n",
    "    try:\n",
    "        print('uploading...')\n",
    "        res = ckan_inst.action.resource_create(\n",
    "            package_id=package_id,\n",
    "            name=name,\n",
    "            upload=open(filepath, 'rb'),\n",
    "            url=url,\n",
    "            format=data_format)\n",
    "        print('done')\n",
    "        return res\n",
    "    except ckanapi.ValidationError as ex:\n",
    "        print(ex)\n",
    "    except ckanapi.NotAuthorized as ex:\n",
    "        print('access denied. Is your API key valid?')\n",
    "        print(ex)\n",
    "        return\n",
    "    print('done')\n",
    "\n",
    "    \n",
    "def update_resource(dataset_title, filepath, owner_org='vta', name=None, url='dummy-value', data_format='csv'):\n",
    "    \"\"\"\n",
    "    For this to work, the resource names should be unique (this is not enforced).\n",
    "    If the names are not unique, only the last one with the same name will be updated.\n",
    "    \n",
    "    http://docs.ckan.org/en/latest/api/index.html#ckan.logic.action.update.resource_update\n",
    "    \"\"\"\n",
    "    # run a SOLR search for the package\n",
    "    # http://data2.vta.org/api/3/action/package_search?q=&fq=title:ins_sample%20AND%20organization:city-of-san-jose\n",
    "    solr_query = 'title:{0} AND organization:{1}'.format(dataset_title, owner_org)\n",
    "    res = ckan_inst.action.package_search(q=solr_query)\n",
    "    if res.get('count') is not 1:\n",
    "        print('could not find the requested dataset; dataset title and organization not specific enough')\n",
    "        return\n",
    "    \n",
    "    print('looking for file \"{0}\" inside the \"{1}\" dataset'.format( name, dataset_title))\n",
    "    resource_id = None\n",
    "    for r in res.get('results')[0].get('resources'):\n",
    "        print (str(r.get('name'))+' : '+str(r.get('id')))\n",
    "        if str(r.get('name')) == str(name):\n",
    "            resource_id = r.get('id')\n",
    "    \n",
    "    if resource_id is None:\n",
    "        print('could not find the requested resource')\n",
    "        return\n",
    "    else:\n",
    "        print('found resource id \"{0}\"'.format(resource_id))\n",
    "    \n",
    "    print('uploading...')\n",
    "    try:\n",
    "        res = ckan_inst.action.resource_update(\n",
    "            id=resource_id,\n",
    "            name=name,\n",
    "            upload=open(filepath, 'rb'),\n",
    "            url=url,\n",
    "            format=data_format)\n",
    "        print('done')\n",
    "        return res\n",
    "    except ckanapi.ValidationError as ex:\n",
    "        print(ex)\n",
    "    except ckanapi.NotAuthorized as ex:\n",
    "        print('access denied. Is your API key valid?')\n",
    "        print(ex)\n",
    "        return\n",
    "    print('done')\n",
    "\n",
    "\n",
    "    \n",
    "def purge_dataset(dataset_id):\n",
    "    \"\"\"\n",
    "    WARNING: cannot be undone\n",
    "    This frees up the URL of the resource\n",
    "    \"\"\"\n",
    "    try:\n",
    "        ckan_inst.call_action('dataset_purge', {'id': dataset_id})\n",
    "    except ckanapi.ValidationError as ex:\n",
    "        print(ex)\n",
    "    except ckanapi.NotAuthorized as ex:\n",
    "        print('access denied. Is your API key valid?')\n",
    "        print(ex)\n",
    "        return\n",
    "\n",
    "    \n",
    "def delete_dataset(dataset_id):\n",
    "    \"\"\"\n",
    "    Delete a dataset\n",
    "    \"\"\"\n",
    "    try:\n",
    "        ckan_inst.action.package_delete(id=dataset_id)\n",
    "    except ckanapi.ValidationError as ex:\n",
    "        print(ex)\n",
    "    except ckanapi.NotAuthorized as ex:\n",
    "        print('access denied. Is your API key valid?')\n",
    "        print(ex)\n",
    "        return"
   ]
  },
  {
   "cell_type": "code",
   "execution_count": 38,
   "metadata": {
    "collapsed": false
   },
   "outputs": [
    {
     "name": "stdout",
     "output_type": "stream",
     "text": [
      "done\n"
     ]
    }
   ],
   "source": [
    "create_dataset('ins_sample', 'ins sample', owner_org='city-of-san-jose')"
   ]
  },
  {
   "cell_type": "code",
   "execution_count": 39,
   "metadata": {
    "collapsed": false
   },
   "outputs": [
    {
     "name": "stdout",
     "output_type": "stream",
     "text": [
      "uploading...\n",
      "done\n"
     ]
    },
    {
     "data": {
      "text/plain": [
       "{'cache_last_updated': None,\n",
       " 'cache_url': None,\n",
       " 'created': '2016-09-26T02:20:05.058091',\n",
       " 'datastore_active': False,\n",
       " 'description': '',\n",
       " 'format': 'CSV',\n",
       " 'hash': '',\n",
       " 'id': '997535c4-b272-4fb7-ad84-4bac354c4cda',\n",
       " 'last_modified': '2016-09-26T02:20:05.042509',\n",
       " 'mimetype': None,\n",
       " 'mimetype_inner': None,\n",
       " 'name': 'Sacramentorealestatetransactions_a.csv',\n",
       " 'package_id': '2a80c039-d881-4eb5-a3b0-e9a21110a418',\n",
       " 'position': 0,\n",
       " 'resource_type': None,\n",
       " 'revision_id': '643d3104-6dc7-49f3-9095-5749a28eaee6',\n",
       " 'size': None,\n",
       " 'state': 'active',\n",
       " 'url': 'http://52.42.208.85/dataset/2a80c039-d881-4eb5-a3b0-e9a21110a418/resource/997535c4-b272-4fb7-ad84-4bac354c4cda/download/sacramentorealestatetransactionsb.csv',\n",
       " 'url_type': 'upload',\n",
       " 'webstore_last_updated': None,\n",
       " 'webstore_url': None}"
      ]
     },
     "execution_count": 39,
     "metadata": {},
     "output_type": "execute_result"
    }
   ],
   "source": [
    "# upload the contents of SAMPLE_FILE_1a to a resource named SAMPLE_FILE_1a under the 'ins_sample' dataset\n",
    "add_resource_to_dataset('ins_sample', SAMPLE_FILE_1b, name=os.path.basename(SAMPLE_FILE_1a))"
   ]
  },
  {
   "cell_type": "code",
   "execution_count": 40,
   "metadata": {
    "collapsed": false
   },
   "outputs": [
    {
     "name": "stdout",
     "output_type": "stream",
     "text": [
      "looking for file \"Sacramentorealestatetransactions_a.csv\" inside the \"ins_sample\" dataset\n",
      "Sacramentorealestatetransactions_a.csv : 997535c4-b272-4fb7-ad84-4bac354c4cda\n",
      "found resource id \"997535c4-b272-4fb7-ad84-4bac354c4cda\"\n",
      "uploading...\n",
      "done\n"
     ]
    },
    {
     "data": {
      "text/plain": [
       "{'cache_last_updated': None,\n",
       " 'cache_url': None,\n",
       " 'created': '2016-09-26T02:20:05.058091',\n",
       " 'datastore_active': False,\n",
       " 'description': '',\n",
       " 'format': 'CSV',\n",
       " 'hash': '',\n",
       " 'id': '997535c4-b272-4fb7-ad84-4bac354c4cda',\n",
       " 'last_modified': '2016-09-26T02:20:15.321851',\n",
       " 'mimetype': None,\n",
       " 'mimetype_inner': None,\n",
       " 'name': 'Sacramentorealestatetransactions_a.csv',\n",
       " 'package_id': '2a80c039-d881-4eb5-a3b0-e9a21110a418',\n",
       " 'position': 0,\n",
       " 'resource_type': None,\n",
       " 'revision_id': 'aa6f0812-f74d-43f6-af44-b4acfd881409',\n",
       " 'size': None,\n",
       " 'state': 'active',\n",
       " 'url': 'http://52.42.208.85/dataset/2a80c039-d881-4eb5-a3b0-e9a21110a418/resource/997535c4-b272-4fb7-ad84-4bac354c4cda/download/sacramentorealestatetransactionsb.csv',\n",
       " 'url_type': 'upload',\n",
       " 'webstore_last_updated': None,\n",
       " 'webstore_url': None}"
      ]
     },
     "execution_count": 40,
     "metadata": {},
     "output_type": "execute_result"
    }
   ],
   "source": [
    "# now we replace the contents of the resource named SAMPLE_FILE_1a with the contents of the file in SAMPLE_FILE_1b\n",
    "update_resource('ins_sample', filepath=SAMPLE_FILE_1b, name=os.path.basename(SAMPLE_FILE_1a), owner_org='city-of-san-jose')"
   ]
  },
  {
   "cell_type": "code",
   "execution_count": 41,
   "metadata": {
    "collapsed": false
   },
   "outputs": [],
   "source": [
    "# Run these if you want to clear and start over\n",
    "#delete_dataset('ins_sample')\n",
    "#purge_dataset('ins_sample')"
   ]
  },
  {
   "cell_type": "code",
   "execution_count": null,
   "metadata": {
    "collapsed": true
   },
   "outputs": [],
   "source": []
  }
 ],
 "metadata": {
  "anaconda-cloud": {},
  "celltoolbar": "Raw Cell Format",
  "kernelspec": {
   "display_name": "Python [py35]",
   "language": "python",
   "name": "Python [py35]"
  },
  "language_info": {
   "codemirror_mode": {
    "name": "ipython",
    "version": 3
   },
   "file_extension": ".py",
   "mimetype": "text/x-python",
   "name": "python",
   "nbconvert_exporter": "python",
   "pygments_lexer": "ipython3",
   "version": "3.5.2"
  }
 },
 "nbformat": 4,
 "nbformat_minor": 0
}
